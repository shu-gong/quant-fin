{
 "cells": [
  {
   "cell_type": "code",
   "execution_count": 1,
   "id": "8e411694-ea2d-4a46-8003-aff3c7ab7163",
   "metadata": {
    "collapsed": true,
    "jupyter": {
     "outputs_hidden": true
    },
    "tags": []
   },
   "outputs": [
    {
     "name": "stdout",
     "output_type": "stream",
     "text": [
      "[*********************100%***********************]  1 of 1 completed\n",
      "                Open      High       Low     Close  AdjClose     Volume\n",
      "Date                                                                   \n",
      "1980-12-12  0.128348  0.128906  0.128348  0.128348  0.099722  469033600\n",
      "1980-12-15  0.122210  0.122210  0.121652  0.121652  0.094519  175884800\n",
      "1980-12-16  0.113281  0.113281  0.112723  0.112723  0.087582  105728000\n",
      "1980-12-17  0.115513  0.116071  0.115513  0.115513  0.089749   86441600\n",
      "1980-12-18  0.118862  0.119420  0.118862  0.118862  0.092351   73449600\n",
      "                  Open        High         Low       Close    AdjClose  \\\n",
      "Date                                                                     \n",
      "2023-03-30  161.529999  162.470001  161.270004  162.360001  162.360001   \n",
      "2023-03-31  162.440002  165.000000  161.910004  164.899994  164.899994   \n",
      "2023-04-03  164.270004  166.289993  164.220001  166.169998  166.169998   \n",
      "2023-04-04  166.600006  166.839996  165.110001  165.630005  165.630005   \n",
      "2023-04-05  164.740005  165.050003  161.800003  163.759995  163.759995   \n",
      "\n",
      "              Volume  \n",
      "Date                  \n",
      "2023-03-30  49501700  \n",
      "2023-03-31  68694700  \n",
      "2023-04-03  56976200  \n",
      "2023-04-04  46278300  \n",
      "2023-04-05  51457200  \n"
     ]
    }
   ],
   "source": [
    "import yfinance as yf\n",
    "import pandas as pd\n",
    "import numpy as np\n",
    "import talib as ta\n",
    "from fredapi import Fred\n",
    "\n",
    "# Download Apple stock data from its earliest day up to present\n",
    "apple_data = yf.download('AAPL', start='1970-01-01', end=None)\n",
    "apple_data.rename(columns={\"Adj Close\": \"AdjClose\"}, inplace=True)\n",
    "\n",
    "# Print the first few rows of the data\n",
    "print(apple_data.head())\n",
    "print(apple_data.tail())"
   ]
  },
  {
   "cell_type": "code",
   "execution_count": 6,
   "id": "d5a057c9-da94-4328-ac8e-57a6e6a560a3",
   "metadata": {},
   "outputs": [
    {
     "data": {
      "text/html": [
       "<div>\n",
       "<style scoped>\n",
       "    .dataframe tbody tr th:only-of-type {\n",
       "        vertical-align: middle;\n",
       "    }\n",
       "\n",
       "    .dataframe tbody tr th {\n",
       "        vertical-align: top;\n",
       "    }\n",
       "\n",
       "    .dataframe thead th {\n",
       "        text-align: right;\n",
       "    }\n",
       "</style>\n",
       "<table border=\"1\" class=\"dataframe\">\n",
       "  <thead>\n",
       "    <tr style=\"text-align: right;\">\n",
       "      <th></th>\n",
       "      <th>Open</th>\n",
       "      <th>High</th>\n",
       "      <th>Low</th>\n",
       "      <th>Close</th>\n",
       "      <th>AdjClose</th>\n",
       "      <th>Volume</th>\n",
       "    </tr>\n",
       "    <tr>\n",
       "      <th>Date</th>\n",
       "      <th></th>\n",
       "      <th></th>\n",
       "      <th></th>\n",
       "      <th></th>\n",
       "      <th></th>\n",
       "      <th></th>\n",
       "    </tr>\n",
       "  </thead>\n",
       "  <tbody>\n",
       "    <tr>\n",
       "      <th>2023-03-30</th>\n",
       "      <td>161.529999</td>\n",
       "      <td>162.470001</td>\n",
       "      <td>161.270004</td>\n",
       "      <td>162.360001</td>\n",
       "      <td>162.360001</td>\n",
       "      <td>49501700</td>\n",
       "    </tr>\n",
       "    <tr>\n",
       "      <th>2023-03-31</th>\n",
       "      <td>162.440002</td>\n",
       "      <td>165.000000</td>\n",
       "      <td>161.910004</td>\n",
       "      <td>164.899994</td>\n",
       "      <td>164.899994</td>\n",
       "      <td>68694700</td>\n",
       "    </tr>\n",
       "    <tr>\n",
       "      <th>2023-04-03</th>\n",
       "      <td>164.270004</td>\n",
       "      <td>166.289993</td>\n",
       "      <td>164.220001</td>\n",
       "      <td>166.169998</td>\n",
       "      <td>166.169998</td>\n",
       "      <td>56976200</td>\n",
       "    </tr>\n",
       "    <tr>\n",
       "      <th>2023-04-04</th>\n",
       "      <td>166.600006</td>\n",
       "      <td>166.839996</td>\n",
       "      <td>165.110001</td>\n",
       "      <td>165.630005</td>\n",
       "      <td>165.630005</td>\n",
       "      <td>46278300</td>\n",
       "    </tr>\n",
       "    <tr>\n",
       "      <th>2023-04-05</th>\n",
       "      <td>164.740005</td>\n",
       "      <td>165.050003</td>\n",
       "      <td>161.800003</td>\n",
       "      <td>163.759995</td>\n",
       "      <td>163.759995</td>\n",
       "      <td>51457200</td>\n",
       "    </tr>\n",
       "  </tbody>\n",
       "</table>\n",
       "</div>"
      ],
      "text/plain": [
       "                  Open        High         Low       Close    AdjClose  \\\n",
       "Date                                                                     \n",
       "2023-03-30  161.529999  162.470001  161.270004  162.360001  162.360001   \n",
       "2023-03-31  162.440002  165.000000  161.910004  164.899994  164.899994   \n",
       "2023-04-03  164.270004  166.289993  164.220001  166.169998  166.169998   \n",
       "2023-04-04  166.600006  166.839996  165.110001  165.630005  165.630005   \n",
       "2023-04-05  164.740005  165.050003  161.800003  163.759995  163.759995   \n",
       "\n",
       "              Volume  \n",
       "Date                  \n",
       "2023-03-30  49501700  \n",
       "2023-03-31  68694700  \n",
       "2023-04-03  56976200  \n",
       "2023-04-04  46278300  \n",
       "2023-04-05  51457200  "
      ]
     },
     "execution_count": 6,
     "metadata": {},
     "output_type": "execute_result"
    }
   ],
   "source": [
    "apple_data.tail()"
   ]
  },
  {
   "cell_type": "code",
   "execution_count": null,
   "id": "d18db516-1cf2-48ce-bc4b-4c89b4e5e74a",
   "metadata": {},
   "outputs": [],
   "source": []
  }
 ],
 "metadata": {
  "kernelspec": {
   "display_name": "Python 3 (ipykernel)",
   "language": "python",
   "name": "python3"
  },
  "language_info": {
   "codemirror_mode": {
    "name": "ipython",
    "version": 3
   },
   "file_extension": ".py",
   "mimetype": "text/x-python",
   "name": "python",
   "nbconvert_exporter": "python",
   "pygments_lexer": "ipython3",
   "version": "3.8.16"
  }
 },
 "nbformat": 4,
 "nbformat_minor": 5
}
