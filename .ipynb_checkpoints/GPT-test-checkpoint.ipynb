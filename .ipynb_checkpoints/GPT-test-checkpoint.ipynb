{
 "cells": [
  {
   "cell_type": "markdown",
   "id": "7bbf938d-ff9b-489c-ac6b-2160e7e5021e",
   "metadata": {},
   "source": [
    "## Fundamental Indicators"
   ]
  },
  {
   "cell_type": "markdown",
   "id": "9d431f84-6818-44b0-907a-235f64a64383",
   "metadata": {},
   "source": [
    "### Short Term Interest Rate"
   ]
  },
  {
   "cell_type": "code",
   "execution_count": 17,
   "id": "8b275821-ebcd-4791-9eac-5036aaa85eb9",
   "metadata": {
    "tags": []
   },
   "outputs": [
    {
     "data": {
      "text/plain": [
       "1954-07-01    0.80\n",
       "1954-08-01    1.22\n",
       "1954-09-01    1.07\n",
       "1954-10-01    0.85\n",
       "1954-11-01    0.83\n",
       "              ... \n",
       "2022-10-01    3.08\n",
       "2022-11-01    3.78\n",
       "2022-12-01    4.10\n",
       "2023-01-01    4.33\n",
       "2023-02-01    4.57\n",
       "Length: 824, dtype: float64"
      ]
     },
     "execution_count": 17,
     "metadata": {},
     "output_type": "execute_result"
    }
   ],
   "source": [
    "from fredapi import Fred\n",
    "fred = Fred(api_key='b788b5f2a26ec3ba6ba6de1559d810da')\n",
    "data = fred.get_series('FEDFUNDS')\n",
    "data"
   ]
  },
  {
   "cell_type": "markdown",
   "id": "bd05c78b-0b8a-4439-b6d6-302cbce760ae",
   "metadata": {
    "tags": []
   },
   "source": [
    "### Put Call Ratio"
   ]
  },
  {
   "cell_type": "code",
   "execution_count": 2,
   "id": "4ce0996f-8e19-4e8a-9d06-dbafdf2f4954",
   "metadata": {},
   "outputs": [],
   "source": [
    "import yfinance as yf\n",
    "\n",
    "# Get options data for AAPL stock\n",
    "aapl = yf.Ticker('AAPL')\n",
    "options_data = aapl.option_chain('2023-03-31')\n",
    "# Calculate put volume and call volume\n",
    "put_volume = options_data.puts.volume.sum()\n",
    "call_volume = options_data.calls.volume.sum()\n",
    "\n",
    "# Calculate PCR as put volume divided by call volume\n",
    "PCR = put_volume / call_volume\n",
    "\n",
    "print('PCR:', PCR)"
   ]
  },
  {
   "cell_type": "code",
   "execution_count": 5,
   "id": "1e7b1e14-d1bc-4f45-b226-fc5bfd1330e7",
   "metadata": {},
   "outputs": [],
   "source": []
  },
  {
   "cell_type": "code",
   "execution_count": 8,
   "id": "e777c72b-b74b-40e4-9ce4-5dd5144e2e85",
   "metadata": {
    "tags": []
   },
   "outputs": [
    {
     "name": "stdout",
     "output_type": "stream",
     "text": [
      "PCR: 1.1579596964376235\n"
     ]
    }
   ],
   "source": []
  },
  {
   "cell_type": "markdown",
   "id": "134be7fe-ca46-43f6-83fe-b264c635ee19",
   "metadata": {},
   "source": [
    "### Volatility Index"
   ]
  },
  {
   "cell_type": "code",
   "execution_count": 14,
   "id": "54fec36c-67f0-4d8b-89b1-16a35855f57f",
   "metadata": {
    "tags": []
   },
   "outputs": [
    {
     "name": "stdout",
     "output_type": "stream",
     "text": [
      "                                Open       High        Low      Close  Volume  \\\n",
      "Date                                                                            \n",
      "1990-01-02 00:00:00-05:00  17.240000  17.240000  17.240000  17.240000       0   \n",
      "1990-01-03 00:00:00-05:00  18.190001  18.190001  18.190001  18.190001       0   \n",
      "1990-01-04 00:00:00-05:00  19.219999  19.219999  19.219999  19.219999       0   \n",
      "1990-01-05 00:00:00-05:00  20.110001  20.110001  20.110001  20.110001       0   \n",
      "1990-01-08 00:00:00-05:00  20.260000  20.260000  20.260000  20.260000       0   \n",
      "...                              ...        ...        ...        ...     ...   \n",
      "2023-03-20 00:00:00-04:00  27.770000  28.910000  24.000000  24.150000       0   \n",
      "2023-03-21 00:00:00-04:00  24.160000  24.160000  21.290001  21.379999       0   \n",
      "2023-03-22 00:00:00-04:00  21.799999  22.379999  19.940001  22.260000       0   \n",
      "2023-03-23 00:00:00-04:00  21.540001  24.910000  20.160000  22.610001       0   \n",
      "2023-03-24 00:00:00-04:00  22.110001  25.209999  21.600000  21.740000       0   \n",
      "\n",
      "                           Dividends  Stock Splits  \n",
      "Date                                                \n",
      "1990-01-02 00:00:00-05:00        0.0           0.0  \n",
      "1990-01-03 00:00:00-05:00        0.0           0.0  \n",
      "1990-01-04 00:00:00-05:00        0.0           0.0  \n",
      "1990-01-05 00:00:00-05:00        0.0           0.0  \n",
      "1990-01-08 00:00:00-05:00        0.0           0.0  \n",
      "...                              ...           ...  \n",
      "2023-03-20 00:00:00-04:00        0.0           0.0  \n",
      "2023-03-21 00:00:00-04:00        0.0           0.0  \n",
      "2023-03-22 00:00:00-04:00        0.0           0.0  \n",
      "2023-03-23 00:00:00-04:00        0.0           0.0  \n",
      "2023-03-24 00:00:00-04:00        0.0           0.0  \n",
      "\n",
      "[8372 rows x 7 columns]\n"
     ]
    }
   ],
   "source": [
    "import yfinance as yf\n",
    "\n",
    "# Create a ticker object for the VIX\n",
    "vix_ticker = yf.Ticker(\"^VIX\")\n",
    "\n",
    "# Get historical data for the VIX\n",
    "vix_history = vix_ticker.history(period=\"max\")\n",
    "\n",
    "# Print the VIX data\n",
    "print(vix_history)"
   ]
  },
  {
   "cell_type": "markdown",
   "id": "0933b4d9-3cbe-41f9-8a9f-7715c335a412",
   "metadata": {},
   "source": [
    "## Technical Indicator"
   ]
  },
  {
   "cell_type": "markdown",
   "id": "85759aa5-0665-40f0-b2df-9d171d4e59f1",
   "metadata": {},
   "source": [
    "### Relative Strength Index"
   ]
  },
  {
   "cell_type": "code",
   "execution_count": null,
   "id": "a9df2bb8-600f-4102-9fe2-6dbaceed8bbc",
   "metadata": {},
   "outputs": [],
   "source": []
  }
 ],
 "metadata": {
  "kernelspec": {
   "display_name": "Python 3 (ipykernel)",
   "language": "python",
   "name": "python3"
  },
  "language_info": {
   "codemirror_mode": {
    "name": "ipython",
    "version": 3
   },
   "file_extension": ".py",
   "mimetype": "text/x-python",
   "name": "python",
   "nbconvert_exporter": "python",
   "pygments_lexer": "ipython3",
   "version": "3.8.16"
  }
 },
 "nbformat": 4,
 "nbformat_minor": 5
}
